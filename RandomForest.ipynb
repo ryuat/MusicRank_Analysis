{
 "cells": [
  {
   "cell_type": "code",
   "execution_count": 341,
   "metadata": {},
   "outputs": [],
   "source": [
    "# -*- coding: UTF-8 -*-\n",
    "from selenium import webdriver\n",
    "from bs4 import BeautifulSoup\n",
    "import re\n",
    "import pymongo\n",
    "import pandas as pd \n",
    "import numpy as np\n",
    "import pickle\n",
    "\n",
    "\n",
    "from sklearn.ensemble import RandomForestClassifier,ExtraTreesClassifier\n",
    "from sklearn.svm import SVC\n",
    "from sklearn.linear_model import SGDClassifier\n",
    "from sklearn.linear_model import LogisticRegression\n",
    "from sklearn.ensemble import RandomForestClassifier\n",
    "\n",
    "from konlpy.tag import Twitter\n",
    "from sklearn.feature_extraction.text import TfidfTransformer, TfidfVectorizer\n",
    "\n",
    "from scipy.sparse import csr_matrix\n",
    "from scipy.sparse import hstack\n",
    "from scipy.sparse import vstack\n",
    "\n",
    "from sklearn.metrics import accuracy_score"
   ]
  },
  {
   "cell_type": "markdown",
   "metadata": {},
   "source": [
    "<h3>Predict Train Data</h3>"
   ]
  },
  {
   "cell_type": "code",
   "execution_count": 342,
   "metadata": {},
   "outputs": [],
   "source": [
    "df_2 = pd.read_excel(\"mnet_music7.xlsx\")"
   ]
  },
  {
   "cell_type": "code",
   "execution_count": 343,
   "metadata": {},
   "outputs": [
    {
     "data": {
      "text/plain": [
       "Index(['순위', '곡명', '가수', '작곡', '작사', '피쳐링', '년월', '발매일', '음악장르', '재생시간', '좋아요',\n",
       "       '편곡', '활동유형', '작곡1', '작곡2', '작곡3', '작곡4', '작곡5', '작곡6', '작곡7', '작곡8',\n",
       "       '작곡9', '작곡10', '작곡11', '작곡12', '작사1', '작사2', '작사3', '작사4', '작사5', '작사6',\n",
       "       '작사7', '작사8', '작사9', '작사10', '작사11', '작사12', '가수1', '가수2', '가수3', '가수4',\n",
       "       '가수5', '가수6', '가수7', '가수8', '가수9', '가수10', '가수11'],\n",
       "      dtype='object')"
      ]
     },
     "execution_count": 343,
     "metadata": {},
     "output_type": "execute_result"
    }
   ],
   "source": [
    "df_2.columns"
   ]
  },
  {
   "cell_type": "code",
   "execution_count": 344,
   "metadata": {},
   "outputs": [
    {
     "data": {
      "text/html": [
       "<div>\n",
       "<style scoped>\n",
       "    .dataframe tbody tr th:only-of-type {\n",
       "        vertical-align: middle;\n",
       "    }\n",
       "\n",
       "    .dataframe tbody tr th {\n",
       "        vertical-align: top;\n",
       "    }\n",
       "\n",
       "    .dataframe thead th {\n",
       "        text-align: right;\n",
       "    }\n",
       "</style>\n",
       "<table border=\"1\" class=\"dataframe\">\n",
       "  <thead>\n",
       "    <tr style=\"text-align: right;\">\n",
       "      <th></th>\n",
       "      <th>순위</th>\n",
       "      <th>곡명</th>\n",
       "      <th>가수</th>\n",
       "      <th>작곡</th>\n",
       "      <th>작사</th>\n",
       "      <th>피쳐링</th>\n",
       "      <th>년월</th>\n",
       "      <th>발매일</th>\n",
       "      <th>음악장르</th>\n",
       "      <th>재생시간</th>\n",
       "      <th>...</th>\n",
       "      <th>가수2</th>\n",
       "      <th>가수3</th>\n",
       "      <th>가수4</th>\n",
       "      <th>가수5</th>\n",
       "      <th>가수6</th>\n",
       "      <th>가수7</th>\n",
       "      <th>가수8</th>\n",
       "      <th>가수9</th>\n",
       "      <th>가수10</th>\n",
       "      <th>가수11</th>\n",
       "    </tr>\n",
       "  </thead>\n",
       "  <tbody>\n",
       "    <tr>\n",
       "      <th>0</th>\n",
       "      <td>1위</td>\n",
       "      <td>Gee</td>\n",
       "      <td>소녀시대</td>\n",
       "      <td>이트라이브</td>\n",
       "      <td>이트라이브</td>\n",
       "      <td>없음</td>\n",
       "      <td>200901</td>\n",
       "      <td>2009.01.05</td>\n",
       "      <td>댄스 &gt; 댄스</td>\n",
       "      <td>03:22</td>\n",
       "      <td>...</td>\n",
       "      <td>없음</td>\n",
       "      <td>없음</td>\n",
       "      <td>없음</td>\n",
       "      <td>없음</td>\n",
       "      <td>없음</td>\n",
       "      <td>없음</td>\n",
       "      <td>없음</td>\n",
       "      <td>없음</td>\n",
       "      <td>없음</td>\n",
       "      <td>없음</td>\n",
       "    </tr>\n",
       "    <tr>\n",
       "      <th>1</th>\n",
       "      <td>2위</td>\n",
       "      <td>이젠 남이야 (Feat. Baby-J of Jewelry)</td>\n",
       "      <td>김경록</td>\n",
       "      <td>조영수</td>\n",
       "      <td>조영수</td>\n",
       "      <td>Baby-J</td>\n",
       "      <td>200901</td>\n",
       "      <td>2008.12.16</td>\n",
       "      <td>가요 &gt; 알앤비</td>\n",
       "      <td>04:07</td>\n",
       "      <td>...</td>\n",
       "      <td>없음</td>\n",
       "      <td>없음</td>\n",
       "      <td>없음</td>\n",
       "      <td>없음</td>\n",
       "      <td>없음</td>\n",
       "      <td>없음</td>\n",
       "      <td>없음</td>\n",
       "      <td>없음</td>\n",
       "      <td>없음</td>\n",
       "      <td>없음</td>\n",
       "    </tr>\n",
       "  </tbody>\n",
       "</table>\n",
       "<p>2 rows × 48 columns</p>\n",
       "</div>"
      ],
      "text/plain": [
       "   순위                                곡명    가수     작곡     작사     피쳐링      년월  \\\n",
       "0  1위                               Gee  소녀시대  이트라이브  이트라이브      없음  200901   \n",
       "1  2위  이젠 남이야 (Feat. Baby-J of Jewelry)   김경록    조영수    조영수  Baby-J  200901   \n",
       "\n",
       "          발매일      음악장르   재생시간 ...  가수2 가수3 가수4 가수5 가수6 가수7 가수8 가수9 가수10 가수11  \n",
       "0  2009.01.05   댄스 > 댄스  03:22 ...   없음  없음  없음  없음  없음  없음  없음  없음   없음   없음  \n",
       "1  2008.12.16  가요 > 알앤비  04:07 ...   없음  없음  없음  없음  없음  없음  없음  없음   없음   없음  \n",
       "\n",
       "[2 rows x 48 columns]"
      ]
     },
     "execution_count": 344,
     "metadata": {},
     "output_type": "execute_result"
    }
   ],
   "source": [
    "df_2.head(2)"
   ]
  },
  {
   "cell_type": "code",
   "execution_count": 345,
   "metadata": {},
   "outputs": [],
   "source": [
    "df_2['순위_2'] = df_2['순위'].apply(lambda x: float(x[:-1]))\n",
    "df_2['순위_4'] = df_2['순위_2'].apply(lambda x : True if x <= 10 else False) #(df_2['순위_2']-1)/10"
   ]
  },
  {
   "cell_type": "code",
   "execution_count": 346,
   "metadata": {},
   "outputs": [],
   "source": [
    "# 작곡, 가수의 공백 제거\n",
    "df_2['가수1_rb'] = df_2['가수1'].apply(lambda x: str(x).replace(\" \", \"\"))\n",
    "df_2['작곡1_rb'] = df_2['작곡1'].apply(lambda x: str(x).replace(\" \", \"\"))"
   ]
  },
  {
   "cell_type": "code",
   "execution_count": 347,
   "metadata": {},
   "outputs": [
    {
     "data": {
      "text/plain": [
       "<matplotlib.axes._subplots.AxesSubplot at 0x15258e10>"
      ]
     },
     "execution_count": 347,
     "metadata": {},
     "output_type": "execute_result"
    },
    {
     "data": {
      "image/png": "[encoded data removed]",
      "text/plain": [
       "<Figure size 432x288 with 1 Axes>"
      ]
     },
     "metadata": {},
     "output_type": "display_data"
    }
   ],
   "source": [
    "import seaborn as sns\n",
    "sns.countplot(df_2['순위_4'])"
   ]
  },
  {
   "cell_type": "code",
   "execution_count": 348,
   "metadata": {},
   "outputs": [
    {
     "data": {
      "text/plain": [
       "<matplotlib.axes._subplots.AxesSubplot at 0x152a81d0>"
      ]
     },
     "execution_count": 348,
     "metadata": {},
     "output_type": "execute_result"
    },
    {
     "data": {
      "image/png": "[encoded data removed]",
      "text/plain": [
       "<Figure size 432x288 with 1 Axes>"
      ]
     },
     "metadata": {},
     "output_type": "display_data"
    }
   ],
   "source": [
    "#class 분포가 너무 치우쳐져 있다. => false라고만 대답하면 90프로는 맞는다.. \n",
    "# 분포를 맞추기 위해 복사함 10위 안 데이터를 \n",
    "import seaborn as sns\n",
    "train_top_10 = df_2[df_2['순위_2'] <= 10]\n",
    "\n",
    "for i in range(8):\n",
    "    df_2 = pd.concat([df_2, train_top_10])\n",
    "    \n",
    "sns.countplot(df_2['순위_4'])"
   ]
  },
  {
   "cell_type": "code",
   "execution_count": 349,
   "metadata": {},
   "outputs": [],
   "source": [
    "# train test 나누기\n",
    "\n",
    "# random idx 뽑기\n",
    "test_idx = np.random.choice(len(df_2), 5000, replace=False)\n",
    "train_idx = list({i for i in range(len(df_2))} - set(test_idx))\n",
    "\n",
    "train = df_2.iloc[train_idx]\n",
    "test = df_2.iloc[test_idx]"
   ]
  },
  {
   "cell_type": "code",
   "execution_count": 350,
   "metadata": {},
   "outputs": [
    {
     "name": "stdout",
     "output_type": "stream",
     "text": [
      "16571\n",
      "5000\n"
     ]
    }
   ],
   "source": [
    "print(len(train))\n",
    "print(len(test))"
   ]
  },
  {
   "cell_type": "code",
   "execution_count": 351,
   "metadata": {},
   "outputs": [],
   "source": [
    "# train vectorize\n",
    "vectorizer_singer =  TfidfVectorizer(ngram_range=(1,1))\n",
    "vectorizer_pd =  TfidfVectorizer(ngram_range=(1,1))\n",
    "\n",
    "singer_vec = vectorizer_singer.fit_transform(train['가수1_rb'])\n",
    "pd_vec = vectorizer_pd.fit_transform(train['작곡1_rb'])"
   ]
  },
  {
   "cell_type": "code",
   "execution_count": 352,
   "metadata": {},
   "outputs": [
    {
     "name": "stdout",
     "output_type": "stream",
     "text": [
      "898\n",
      "1115\n"
     ]
    }
   ],
   "source": [
    "# 가수 , 작곡 각각 feature 수(사전)\n",
    "print(len(vectorizer_singer.get_feature_names()))\n",
    "print(len(vectorizer_pd.get_feature_names()))"
   ]
  },
  {
   "cell_type": "code",
   "execution_count": 353,
   "metadata": {},
   "outputs": [
    {
     "data": {
      "text/plain": [
       "<16571x2013 sparse matrix of type '<class 'numpy.float64'>'\n",
       "\twith 32886 stored elements in COOrdinate format>"
      ]
     },
     "execution_count": 353,
     "metadata": {},
     "output_type": "execute_result"
    }
   ],
   "source": [
    "# 두 sparse matrix(가수, 작곡) 합치기\n",
    "from scipy import sparse\n",
    "singer_pd_vec = hstack((singer_vec, pd_vec))\n",
    "singer_pd_vec"
   ]
  },
  {
   "cell_type": "code",
   "execution_count": 354,
   "metadata": {},
   "outputs": [],
   "source": [
    "train_x = singer_pd_vec\n",
    "train_y = train['순위_4']"
   ]
  },
  {
   "cell_type": "code",
   "execution_count": 362,
   "metadata": {},
   "outputs": [],
   "source": [
    "model_rf = RandomForestClassifier(n_estimators=500, max_depth=10).fit(train_x, train_y)\n",
    "\n"
   ]
  },
  {
   "cell_type": "code",
   "execution_count": 431,
   "metadata": {},
   "outputs": [],
   "source": [
    "from sklearn.linear_model import SGDClassifier\n",
    "model_rf = LogisticRegression().fit(train_x, train_y)"
   ]
  },
  {
   "cell_type": "code",
   "execution_count": null,
   "metadata": {},
   "outputs": [],
   "source": []
  },
  {
   "cell_type": "code",
   "execution_count": 432,
   "metadata": {},
   "outputs": [
    {
     "data": {
      "text/plain": [
       "0.7371311327017078"
      ]
     },
     "execution_count": 432,
     "metadata": {},
     "output_type": "execute_result"
    }
   ],
   "source": [
    "pred_train = model_rf.predict(train_x)\n",
    "accuracy_score(train['순위_4'], pred_train)"
   ]
  },
  {
   "cell_type": "code",
   "execution_count": 433,
   "metadata": {},
   "outputs": [
    {
     "name": "stdout",
     "output_type": "stream",
     "text": [
      "             precision    recall  f1-score   support\n",
      "\n",
      "      False       0.80      0.63      0.71      8292\n",
      "       True       0.70      0.84      0.76      8279\n",
      "\n",
      "avg / total       0.75      0.74      0.73     16571\n",
      "\n"
     ]
    }
   ],
   "source": [
    "from sklearn.metrics import classification_report\n",
    "print(classification_report(train_y, pred_train))"
   ]
  },
  {
   "cell_type": "markdown",
   "metadata": {},
   "source": [
    "<h3>2. Predict Test data  </h3>"
   ]
  },
  {
   "cell_type": "code",
   "execution_count": 434,
   "metadata": {},
   "outputs": [],
   "source": [
    "# train vectorizer 활용 tfidf \n",
    "feature_list_singer = vectorizer_singer.get_feature_names()\n",
    "feature_list_pd = vectorizer_pd.get_feature_names()\n",
    "\n",
    "test_vectorizer_singer =  TfidfVectorizer(ngram_range=(1,1), vocabulary = feature_list_singer)\n",
    "test_vectorizer_pd =  TfidfVectorizer(ngram_range=(1,1), vocabulary = feature_list_pd)\n",
    "\n",
    "test_vec_singer = test_vectorizer_singer.fit_transform(test['가수1'])\n",
    "test_vec_pd = test_vectorizer_pd.fit_transform(test['작곡1'])\n",
    "\n",
    "test_x = hstack((test_vec_singer, test_vec_pd))\n",
    "test_y = test['순위_4']"
   ]
  },
  {
   "cell_type": "code",
   "execution_count": 435,
   "metadata": {},
   "outputs": [
    {
     "name": "stdout",
     "output_type": "stream",
     "text": [
      "(16571, 2013)\n",
      "(5000, 2013)\n"
     ]
    }
   ],
   "source": [
    "print(train_x.shape)\n",
    "print(test_x.shape)"
   ]
  },
  {
   "cell_type": "code",
   "execution_count": null,
   "metadata": {},
   "outputs": [],
   "source": []
  },
  {
   "cell_type": "code",
   "execution_count": 436,
   "metadata": {},
   "outputs": [
    {
     "data": {
      "text/plain": [
       "0.6842"
      ]
     },
     "execution_count": 436,
     "metadata": {},
     "output_type": "execute_result"
    }
   ],
   "source": [
    "pred_test = model_rf.predict(test_x)\n",
    "accuracy_score(test_y, pred_test)"
   ]
  },
  {
   "cell_type": "code",
   "execution_count": 399,
   "metadata": {},
   "outputs": [
    {
     "name": "stdout",
     "output_type": "stream",
     "text": [
      "             precision    recall  f1-score   support\n",
      "\n",
      "      False       0.62      0.73      0.67      2488\n",
      "       True       0.67      0.55      0.61      2512\n",
      "\n",
      "avg / total       0.64      0.64      0.64      5000\n",
      "\n"
     ]
    }
   ],
   "source": [
    "print(classification_report(test['순위_4'], pred_test))"
   ]
  },
  {
   "cell_type": "code",
   "execution_count": 46,
   "metadata": {},
   "outputs": [
    {
     "data": {
      "text/plain": [
       "array([0.03171098, 0.02510437, 0.04420039, 0.02351822, 0.02194109,\n",
       "       0.02691338, 0.07222553])"
      ]
     },
     "execution_count": 46,
     "metadata": {},
     "output_type": "execute_result"
    }
   ],
   "source": [
    "model_rf.feature_importances_[model_rf.feature_importances_ >= 0.02]"
   ]
  },
  {
   "cell_type": "code",
   "execution_count": 90,
   "metadata": {},
   "outputs": [
    {
     "data": {
      "text/plain": [
       "902"
      ]
     },
     "execution_count": 90,
     "metadata": {},
     "output_type": "execute_result"
    }
   ],
   "source": [
    "test_vectorizer_singer.get_feature_names()"
   ]
  },
  {
   "cell_type": "code",
   "execution_count": 121,
   "metadata": {},
   "outputs": [],
   "source": [
    "# sum(model_rf.feature_importances_ >= 0.017)\n",
    "\n",
    "# import_features_idx = np.where(model_rf.feature_importances_ >= 0.017)\n",
    "\n",
    "# import_features_idx\n",
    "\n",
    "# print(len(vectorizer_singer.get_feature_names()))\n",
    "# print(len(vectorizer_pd.get_feature_names()))\n",
    "\n",
    "# np.array(vectorizer_singer.get_feature_names())[[,  349,  516]]\n",
    "\n",
    "\n",
    "# np.array(vectorizer_pd.get_feature_names())[[1237-902, 1339-902, 1539-902, 1615-902, 1653-902]]"
   ]
  },
  {
   "cell_type": "markdown",
   "metadata": {},
   "source": [
    "<h3>3. Predict User Input Data </h3>"
   ]
  },
  {
   "cell_type": "code",
   "execution_count": 486,
   "metadata": {},
   "outputs": [],
   "source": [
    "singer = '지코'\n",
    "producer = '아이유'"
   ]
  },
  {
   "cell_type": "code",
   "execution_count": 487,
   "metadata": {},
   "outputs": [],
   "source": [
    "singer = str(singer).replace(\" \", \"\")\n",
    "producer = str(producer).replace(\" \", \"\")"
   ]
  },
  {
   "cell_type": "code",
   "execution_count": 488,
   "metadata": {},
   "outputs": [],
   "source": [
    "user_x = {\"가수\":[singer], \"작곡\": [producer]}"
   ]
  },
  {
   "cell_type": "code",
   "execution_count": 489,
   "metadata": {},
   "outputs": [],
   "source": [
    "user_x = pd.DataFrame(user_x, columns=[\"가수\",\"작곡\"])"
   ]
  },
  {
   "cell_type": "code",
   "execution_count": 490,
   "metadata": {},
   "outputs": [],
   "source": [
    "feature_list_singer = vectorizer_singer.get_feature_names()\n",
    "feature_list_pd = vectorizer_pd.get_feature_names()\n",
    "\n",
    "user_vectorizer_singer =  TfidfVectorizer(ngram_range=(1,1), vocabulary = feature_list_singer)\n",
    "user_vectorizer_pd =  TfidfVectorizer(ngram_range=(1,1), vocabulary = feature_list_pd)"
   ]
  },
  {
   "cell_type": "code",
   "execution_count": 491,
   "metadata": {},
   "outputs": [],
   "source": [
    "user_vec_singer = user_vectorizer_singer.fit_transform(user_x['가수'])\n",
    "user_vec_pd = user_vectorizer_pd.fit_transform(user_x['작곡'])\n",
    "user_x = hstack((user_vec_singer, user_vec_pd))"
   ]
  },
  {
   "cell_type": "code",
   "execution_count": 492,
   "metadata": {},
   "outputs": [],
   "source": [
    "pred_user = model_rf.predict(user_x)"
   ]
  },
  {
   "cell_type": "code",
   "execution_count": 493,
   "metadata": {},
   "outputs": [
    {
     "name": "stdout",
     "output_type": "stream",
     "text": [
      "True\n"
     ]
    }
   ],
   "source": [
    "print(pred_user[0])"
   ]
  },
  {
   "cell_type": "code",
   "execution_count": 494,
   "metadata": {},
   "outputs": [
    {
     "data": {
      "text/plain": [
       "array([[0.49385593, 0.50614407]])"
      ]
     },
     "execution_count": 494,
     "metadata": {},
     "output_type": "execute_result"
    }
   ],
   "source": [
    "model_rf.predict_proba(user_x)"
   ]
  },
  {
   "cell_type": "markdown",
   "metadata": {},
   "source": [
    "<h3>4. Pickle 활용</h3>"
   ]
  },
  {
   "cell_type": "code",
   "execution_count": 285,
   "metadata": {},
   "outputs": [
    {
     "data": {
      "text/plain": [
       "1100"
      ]
     },
     "execution_count": 285,
     "metadata": {},
     "output_type": "execute_result"
    }
   ],
   "source": [
    "len(feature_list_singer)\n",
    "len(feature_list_pd)"
   ]
  },
  {
   "cell_type": "code",
   "execution_count": 311,
   "metadata": {},
   "outputs": [],
   "source": [
    "import pickle\n",
    "\n",
    "with open('feature_list_singer_2.txt','wb') as f:\n",
    "    pickle.dump(feature_list_singer,f)\n",
    "\n",
    "with open('feature_list_pd_2.txt', 'wb') as f:\n",
    "    pickle.dump(feature_list_pd, f)"
   ]
  },
  {
   "cell_type": "code",
   "execution_count": 312,
   "metadata": {},
   "outputs": [],
   "source": [
    "with open('feature_list_singer_2.txt','rb') as f:\n",
    "    feature_list_singer_2=pickle.load(f)   \n",
    "    \n",
    "with open('feature_list_pd_2.txt','rb') as f:\n",
    "    feature_list_pd_2=pickle.load(f)         "
   ]
  },
  {
   "cell_type": "code",
   "execution_count": 324,
   "metadata": {},
   "outputs": [],
   "source": [
    "singer = '홍다희'\n",
    "producer = '이대환'"
   ]
  },
  {
   "cell_type": "code",
   "execution_count": 325,
   "metadata": {},
   "outputs": [
    {
     "name": "stdout",
     "output_type": "stream",
     "text": [
      "False\n"
     ]
    }
   ],
   "source": [
    "singer = str(singer).replace(\" \", \"\")\n",
    "producer = str(producer).replace(\" \", \"\")\n",
    "\n",
    "user_x = {\"가수\":[singer], \"작곡\": [producer]}\n",
    "user_x = pd.DataFrame(user_x, columns=[\"가수\",\"작곡\"])\n",
    "\n",
    "feature_list_singer = vectorizer_singer.get_feature_names()\n",
    "feature_list_pd = vectorizer_pd.get_feature_names()\n",
    "\n",
    "user_vectorizer_singer =  TfidfVectorizer(ngram_range=(1,1), vocabulary = feature_list_singer_2)\n",
    "user_vectorizer_pd =  TfidfVectorizer(ngram_range=(1,1), vocabulary = feature_list_pd_2)\n",
    "\n",
    "user_vec_singer = user_vectorizer_singer.fit_transform(user_x['가수'])\n",
    "user_vec_pd = user_vectorizer_pd.fit_transform(user_x['작곡'])\n",
    "user_x = hstack((user_vec_singer, user_vec_pd))\n",
    "\n",
    "#\n",
    "pred_user = model_rf.predict(user_x)\n",
    "print(pred_user[0])"
   ]
  },
  {
   "cell_type": "code",
   "execution_count": null,
   "metadata": {},
   "outputs": [],
   "source": []
  },
  {
   "cell_type": "code",
   "execution_count": 336,
   "metadata": {},
   "outputs": [
    {
     "data": {
      "text/plain": [
       "<matplotlib.axes._subplots.AxesSubplot at 0xd05d4e0>"
      ]
     },
     "execution_count": 336,
     "metadata": {},
     "output_type": "execute_result"
    },
    {
     "data": {
      "image/png": "[encoded data removed]",
      "text/plain": [
       "<Figure size 432x288 with 1 Axes>"
      ]
     },
     "metadata": {},
     "output_type": "display_data"
    }
   ],
   "source": [
    "sns.countplot(df_2['음악장르'], hue=df_2['순위_4'])"
   ]
  },
  {
   "cell_type": "code",
   "execution_count": 337,
   "metadata": {},
   "outputs": [
    {
     "data": {
      "text/plain": [
       "<matplotlib.axes._subplots.AxesSubplot at 0xd6ee358>"
      ]
     },
     "execution_count": 337,
     "metadata": {},
     "output_type": "execute_result"
    },
    {
     "data": {
      "image/png": "[encoded data removed]",
      "text/plain": [
       "<Figure size 432x288 with 1 Axes>"
      ]
     },
     "metadata": {},
     "output_type": "display_data"
    }
   ],
   "source": [
    "sns.countplot(df_2['활동유형'], hue=df_2['순위_4'])"
   ]
  }
 ],
 "metadata": {
  "kernelspec": {
   "display_name": "Python 3",
   "language": "python",
   "name": "python3"
  },
  "language_info": {
   "codemirror_mode": {
    "name": "ipython",
    "version": 3
   },
   "file_extension": ".py",
   "mimetype": "text/x-python",
   "name": "python",
   "nbconvert_exporter": "python",
   "pygments_lexer": "ipython3",
   "version": "3.6.5"
  }
 },
 "nbformat": 4,
 "nbformat_minor": 2
}
